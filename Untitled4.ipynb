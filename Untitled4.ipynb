{
  "nbformat": 4,
  "nbformat_minor": 0,
  "metadata": {
    "colab": {
      "provenance": [],
      "authorship_tag": "ABX9TyNiPM0bUVcV2jiLc3SKF4El",
      "include_colab_link": true
    },
    "kernelspec": {
      "name": "python3",
      "display_name": "Python 3"
    },
    "language_info": {
      "name": "python"
    }
  },
  "cells": [
    {
      "cell_type": "markdown",
      "metadata": {
        "id": "view-in-github",
        "colab_type": "text"
      },
      "source": [
        "<a href=\"https://colab.research.google.com/github/EduardoCastillo2024/Clases-HTML/blob/main/Untitled4.ipynb\" target=\"_parent\"><img src=\"https://colab.research.google.com/assets/colab-badge.svg\" alt=\"Open In Colab\"/></a>"
      ]
    },
    {
      "cell_type": "code",
      "execution_count": 2,
      "metadata": {
        "colab": {
          "base_uri": "https://localhost:8080/",
          "height": 366
        },
        "id": "PR37qcBC8QOg",
        "outputId": "df9626f7-e9a6-43d0-9448-a29498dd67ff"
      },
      "outputs": [
        {
          "output_type": "error",
          "ename": "TclError",
          "evalue": "no display name and no $DISPLAY environment variable",
          "traceback": [
            "\u001b[0;31m---------------------------------------------------------------------------\u001b[0m",
            "\u001b[0;31mTclError\u001b[0m                                  Traceback (most recent call last)",
            "\u001b[0;32m<ipython-input-2-a8cce3d0bb57>\u001b[0m in \u001b[0;36m<cell line: 40>\u001b[0;34m()\u001b[0m\n\u001b[1;32m     38\u001b[0m \u001b[0;31m# Resto del código sin cambios...\u001b[0m\u001b[0;34m\u001b[0m\u001b[0;34m\u001b[0m\u001b[0m\n\u001b[1;32m     39\u001b[0m \u001b[0;34m\u001b[0m\u001b[0m\n\u001b[0;32m---> 40\u001b[0;31m \u001b[0mroot\u001b[0m \u001b[0;34m=\u001b[0m \u001b[0mtk\u001b[0m\u001b[0;34m.\u001b[0m\u001b[0mTk\u001b[0m\u001b[0;34m(\u001b[0m\u001b[0;34m)\u001b[0m\u001b[0;34m\u001b[0m\u001b[0;34m\u001b[0m\u001b[0m\n\u001b[0m\u001b[1;32m     41\u001b[0m \u001b[0mroot\u001b[0m\u001b[0;34m.\u001b[0m\u001b[0mtitle\u001b[0m\u001b[0;34m(\u001b[0m\u001b[0;34m\"Formulario de Ingreso de 3 numeros\"\u001b[0m\u001b[0;34m)\u001b[0m\u001b[0;34m\u001b[0m\u001b[0;34m\u001b[0m\u001b[0m\n\u001b[1;32m     42\u001b[0m \u001b[0mroot\u001b[0m\u001b[0;34m.\u001b[0m\u001b[0mgeometry\u001b[0m\u001b[0;34m(\u001b[0m\u001b[0;34m\"800x600\"\u001b[0m\u001b[0;34m)\u001b[0m\u001b[0;34m\u001b[0m\u001b[0;34m\u001b[0m\u001b[0m\n",
            "\u001b[0;32m/usr/lib/python3.10/tkinter/__init__.py\u001b[0m in \u001b[0;36m__init__\u001b[0;34m(self, screenName, baseName, className, useTk, sync, use)\u001b[0m\n\u001b[1;32m   2297\u001b[0m                 \u001b[0mbaseName\u001b[0m \u001b[0;34m=\u001b[0m \u001b[0mbaseName\u001b[0m \u001b[0;34m+\u001b[0m \u001b[0mext\u001b[0m\u001b[0;34m\u001b[0m\u001b[0;34m\u001b[0m\u001b[0m\n\u001b[1;32m   2298\u001b[0m         \u001b[0minteractive\u001b[0m \u001b[0;34m=\u001b[0m \u001b[0;32mFalse\u001b[0m\u001b[0;34m\u001b[0m\u001b[0;34m\u001b[0m\u001b[0m\n\u001b[0;32m-> 2299\u001b[0;31m         \u001b[0mself\u001b[0m\u001b[0;34m.\u001b[0m\u001b[0mtk\u001b[0m \u001b[0;34m=\u001b[0m \u001b[0m_tkinter\u001b[0m\u001b[0;34m.\u001b[0m\u001b[0mcreate\u001b[0m\u001b[0;34m(\u001b[0m\u001b[0mscreenName\u001b[0m\u001b[0;34m,\u001b[0m \u001b[0mbaseName\u001b[0m\u001b[0;34m,\u001b[0m \u001b[0mclassName\u001b[0m\u001b[0;34m,\u001b[0m \u001b[0minteractive\u001b[0m\u001b[0;34m,\u001b[0m \u001b[0mwantobjects\u001b[0m\u001b[0;34m,\u001b[0m \u001b[0museTk\u001b[0m\u001b[0;34m,\u001b[0m \u001b[0msync\u001b[0m\u001b[0;34m,\u001b[0m \u001b[0muse\u001b[0m\u001b[0;34m)\u001b[0m\u001b[0;34m\u001b[0m\u001b[0;34m\u001b[0m\u001b[0m\n\u001b[0m\u001b[1;32m   2300\u001b[0m         \u001b[0;32mif\u001b[0m \u001b[0museTk\u001b[0m\u001b[0;34m:\u001b[0m\u001b[0;34m\u001b[0m\u001b[0;34m\u001b[0m\u001b[0m\n\u001b[1;32m   2301\u001b[0m             \u001b[0mself\u001b[0m\u001b[0;34m.\u001b[0m\u001b[0m_loadtk\u001b[0m\u001b[0;34m(\u001b[0m\u001b[0;34m)\u001b[0m\u001b[0;34m\u001b[0m\u001b[0;34m\u001b[0m\u001b[0m\n",
            "\u001b[0;31mTclError\u001b[0m: no display name and no $DISPLAY environment variable"
          ]
        }
      ],
      "source": [
        "import tkinter as tk\n",
        "from tkinter import ttk\n",
        "from tkinter import messagebox  # Agregamos este import para mostrar mensajes de alerta\n",
        "\n",
        "def cancelar():\n",
        "    root.destroy()\n",
        "\n",
        "def otro():\n",
        "    # Borra el contenido de las entradas y la etiqueta de resultado\n",
        "    entry_num1.delete(0, 'end')\n",
        "    entry_num2.delete(0, 'end')\n",
        "    entry_num3.delete(0, 'end')\n",
        "    label_resultado.config(text=\"\")\n",
        "\n",
        "def validar_valor(entry):\n",
        "    try:\n",
        "        valor = float(entry.get())  # Intentamos convertir la entrada a un número\n",
        "        return valor\n",
        "    except ValueError:\n",
        "        messagebox.showerror(\"Error\", \"Ingrese solo valores numéricos\")  # Mostramos un mensaje de alerta\n",
        "        return None\n",
        "\n",
        "def comparar():\n",
        "    num1 = validar_valor(entry_num1)\n",
        "    num2 = validar_valor(entry_num2)\n",
        "    num3 = validar_valor(entry_num3)\n",
        "\n",
        "    if num1 is not None and num2 is not None and num3 is not None:\n",
        "        if num1 > num2 and num1 > num3:\n",
        "            resultado = f\"El número mayor es: {num1}\"\n",
        "        elif num2 > num1 and num2 > num3:\n",
        "            resultado = f\"El número mayor es: {num2}\"\n",
        "        else:\n",
        "            resultado = f\"El número mayor es: {num3}\"\n",
        "\n",
        "        label_resultado.config(text=resultado)\n",
        "\n",
        "# Resto del código sin cambios...\n",
        "\n",
        "root = tk.Tk()\n",
        "root.title(\"Formulario de Ingreso de 3 numeros\")\n",
        "root.geometry(\"800x600\")\n",
        "\n",
        "frm = ttk.Frame(root, padding=10)\n",
        "frm.grid(row=0, column=0)\n",
        "\n",
        "label_num1 = tk.Label(frm, text=\"Ingrese Numero 1:\")\n",
        "entry_num1 = tk.Entry(frm)\n",
        "\n",
        "label_num2 = tk.Label(frm, text=\"Ingrese Numero 2:\")\n",
        "entry_num2 = tk.Entry(frm)\n",
        "\n",
        "label_num3 = tk.Label(frm, text=\"Ingrese Numero 3:\")\n",
        "entry_num3 = tk.Entry(frm)\n",
        "\n",
        "boton_comparar = tk.Button(frm, text=\"COMPARAR\", command=comparar)\n",
        "boton_cancelar = tk.Button(frm, text=\"CANCELAR\", command=cancelar)\n",
        "boton_otro = tk.Button(frm, text=\"OTRO\", command=otro)\n",
        "\n",
        "label_resultado = tk.Label(frm, text=\"\")\n",
        "label_resultado.grid(row=3, column=0, columnspan=2, pady=10)\n",
        "\n",
        "label_num1.grid(row=0, column=0, padx=10, pady=5, sticky=\"w\")\n",
        "entry_num1.grid(row=0, column=1, padx=10, pady=5)\n",
        "\n",
        "label_num2.grid(row=1, column=0, padx=10, pady=5, sticky=\"w\")\n",
        "entry_num2.grid(row=1, column=1, padx=10, pady=5)\n",
        "\n",
        "label_num3.grid(row=2, column=0, padx=10, pady=5, sticky=\"w\")\n",
        "entry_num3.grid(row=2, column=1, padx=10, pady=5)\n",
        "\n",
        "boton_comparar.grid(row=4, column=0, padx=20, pady=10, sticky=\"w\")\n",
        "boton_cancelar.grid(row=4, column=1, padx=20, pady=10, sticky=\"e\")\n",
        "boton_otro.grid(row=4, column=2, padx=20, pady=10, sticky=\"w\")\n",
        "\n",
        "root.mainloop()\n"
      ]
    }
  ]
}